{
 "cells": [
  {
   "cell_type": "code",
   "execution_count": 60,
   "id": "67f5bbdc",
   "metadata": {},
   "outputs": [],
   "source": [
    "import pandas as pd\n",
    "\n",
    "text = pd.read_csv(\"민원데이터.csv\", encoding=\"utf-8\")"
   ]
  },
  {
   "cell_type": "code",
   "execution_count": 61,
   "id": "cf5abb7c",
   "metadata": {
    "scrolled": true
   },
   "outputs": [
    {
     "data": {
      "text/html": [
       "<div>\n",
       "<style scoped>\n",
       "    .dataframe tbody tr th:only-of-type {\n",
       "        vertical-align: middle;\n",
       "    }\n",
       "\n",
       "    .dataframe tbody tr th {\n",
       "        vertical-align: top;\n",
       "    }\n",
       "\n",
       "    .dataframe thead th {\n",
       "        text-align: right;\n",
       "    }\n",
       "</style>\n",
       "<table border=\"1\" class=\"dataframe\">\n",
       "  <thead>\n",
       "    <tr style=\"text-align: right;\">\n",
       "      <th></th>\n",
       "      <th>제목</th>\n",
       "      <th>질문내용</th>\n",
       "      <th>답변내용</th>\n",
       "      <th>등록일시</th>\n",
       "      <th>최상위기관명</th>\n",
       "      <th>분야코드</th>\n",
       "      <th>분야명</th>\n",
       "      <th>담당부서명</th>\n",
       "    </tr>\n",
       "  </thead>\n",
       "  <tbody>\n",
       "    <tr>\n",
       "      <th>0</th>\n",
       "      <td>의성군 귀농귀촌 정책 문의</td>\n",
       "      <td>의성군 귀농귀촌 정책 문의</td>\n",
       "      <td>1. 우선 저희 의성군으로 귀농·귀촌하고자 하셔서 감사합니다.\\n \\n2. 귀농·귀...</td>\n",
       "      <td>2021-08-27 오후 3:31:44</td>\n",
       "      <td>경상북도 의성군</td>\n",
       "      <td>20010010</td>\n",
       "      <td>행정/자치/안전</td>\n",
       "      <td>농업기술센터</td>\n",
       "    </tr>\n",
       "    <tr>\n",
       "      <th>1</th>\n",
       "      <td>불법주정차 신고합니다</td>\n",
       "      <td>5대 불법주정차 과태료 부과 대상</td>\n",
       "      <td>1. 귀하의 가정에 평안함과 행복을 기원합니다. 귀하께서 국민신문고로 요청하신 사항...</td>\n",
       "      <td>2021-08-27 오후 1:49:33</td>\n",
       "      <td>경상북도 의성군</td>\n",
       "      <td>20010010</td>\n",
       "      <td>행정/자치/안전</td>\n",
       "      <td>일자리창출과</td>\n",
       "    </tr>\n",
       "    <tr>\n",
       "      <th>2</th>\n",
       "      <td>아동수당 지급 대상</td>\n",
       "      <td>아동수당 지급 대상이 궁금합니다.</td>\n",
       "      <td>1. 안녕하십니까? 귀하께서 문의하신 질의에 대한 답변을 다음과 같이 알려드립니다....</td>\n",
       "      <td>2021-08-27 오후 4:19:51</td>\n",
       "      <td>경상북도 의성군</td>\n",
       "      <td>20010010</td>\n",
       "      <td>행정/자치/안전</td>\n",
       "      <td>복지과</td>\n",
       "    </tr>\n",
       "    <tr>\n",
       "      <th>3</th>\n",
       "      <td>광견병 예방 접종 관련 문의</td>\n",
       "      <td>광견병 예방접종 질문사항.\\n1. 의성군에서  광견병 접종 예방 계획이 있으신지요?...</td>\n",
       "      <td>안녕하십니까?\\n1. 귀하께서 국민신문고를 통해 신청하신 민원에 대한 검토 결과를 ...</td>\n",
       "      <td>2021-08-27 오후 4:18:09</td>\n",
       "      <td>경상북도 의성군</td>\n",
       "      <td>20010010</td>\n",
       "      <td>행정/자치/안전</td>\n",
       "      <td>농축산과</td>\n",
       "    </tr>\n",
       "    <tr>\n",
       "      <th>4</th>\n",
       "      <td>아동수당 지급 금액과 지급 일자</td>\n",
       "      <td>아동수당 지급 금액과 지급 일자가 궁금합니다.</td>\n",
       "      <td>1. 안녕하십니까? 귀하께서 문의하신 질의에 대한 답변을 다음과 같이 알려드립니다....</td>\n",
       "      <td>2021-08-27 오후 4:24:24</td>\n",
       "      <td>경상북도 의성군</td>\n",
       "      <td>20010010</td>\n",
       "      <td>행정/자치/안전</td>\n",
       "      <td>복지과</td>\n",
       "    </tr>\n",
       "  </tbody>\n",
       "</table>\n",
       "</div>"
      ],
      "text/plain": [
       "                  제목                                               질문내용  \\\n",
       "0     의성군 귀농귀촌 정책 문의                                     의성군 귀농귀촌 정책 문의   \n",
       "1        불법주정차 신고합니다                                 5대 불법주정차 과태료 부과 대상   \n",
       "2         아동수당 지급 대상                                 아동수당 지급 대상이 궁금합니다.   \n",
       "3    광견병 예방 접종 관련 문의  광견병 예방접종 질문사항.\\n1. 의성군에서  광견병 접종 예방 계획이 있으신지요?...   \n",
       "4  아동수당 지급 금액과 지급 일자                          아동수당 지급 금액과 지급 일자가 궁금합니다.   \n",
       "\n",
       "                                                답변내용                   등록일시  \\\n",
       "0  1. 우선 저희 의성군으로 귀농·귀촌하고자 하셔서 감사합니다.\\n \\n2. 귀농·귀...  2021-08-27 오후 3:31:44   \n",
       "1  1. 귀하의 가정에 평안함과 행복을 기원합니다. 귀하께서 국민신문고로 요청하신 사항...  2021-08-27 오후 1:49:33   \n",
       "2  1. 안녕하십니까? 귀하께서 문의하신 질의에 대한 답변을 다음과 같이 알려드립니다....  2021-08-27 오후 4:19:51   \n",
       "3  안녕하십니까?\\n1. 귀하께서 국민신문고를 통해 신청하신 민원에 대한 검토 결과를 ...  2021-08-27 오후 4:18:09   \n",
       "4  1. 안녕하십니까? 귀하께서 문의하신 질의에 대한 답변을 다음과 같이 알려드립니다....  2021-08-27 오후 4:24:24   \n",
       "\n",
       "     최상위기관명      분야코드       분야명   담당부서명  \n",
       "0  경상북도 의성군  20010010  행정/자치/안전  농업기술센터  \n",
       "1  경상북도 의성군  20010010  행정/자치/안전  일자리창출과  \n",
       "2  경상북도 의성군  20010010  행정/자치/안전     복지과  \n",
       "3  경상북도 의성군  20010010  행정/자치/안전    농축산과  \n",
       "4  경상북도 의성군  20010010  행정/자치/안전     복지과  "
      ]
     },
     "execution_count": 61,
     "metadata": {},
     "output_type": "execute_result"
    }
   ],
   "source": [
    "text.head()"
   ]
  },
  {
   "cell_type": "code",
   "execution_count": 62,
   "id": "a9e6f8b8",
   "metadata": {},
   "outputs": [],
   "source": [
    "text = text.dropna()"
   ]
  },
  {
   "cell_type": "code",
   "execution_count": 63,
   "id": "c83c14e6",
   "metadata": {},
   "outputs": [
    {
     "data": {
      "text/plain": [
       "False"
      ]
     },
     "execution_count": 63,
     "metadata": {},
     "output_type": "execute_result"
    }
   ],
   "source": [
    "text.isna().any().any()"
   ]
  },
  {
   "cell_type": "code",
   "execution_count": 64,
   "id": "acd574ed",
   "metadata": {},
   "outputs": [],
   "source": [
    "from konlpy.tag import Okt\n",
    "tag = Okt()\n",
    "\n",
    "from sklearn.feature_extraction.text import CountVectorizer\n",
    "from sklearn.decomposition import LatentDirichletAllocation"
   ]
  },
  {
   "cell_type": "code",
   "execution_count": 118,
   "id": "6150c0d5",
   "metadata": {},
   "outputs": [],
   "source": [
    "def tokenizer(str):\n",
    "    return [token for token in tag.nouns(str) if len(token) > 1]"
   ]
  },
  {
   "cell_type": "code",
   "execution_count": 67,
   "id": "e5bb12f7",
   "metadata": {},
   "outputs": [],
   "source": [
    "#count vector 새로 생성\n",
    "vec = CountVectorizer(tokenizer=tokenizer, decode_error ='ignore', \n",
    "                      max_df=0.5, max_features = 1000) #너무 자주 나타나는 단어는 제외\n",
    "text_CV = vec.fit_transform(text['질문내용'])"
   ]
  },
  {
   "cell_type": "code",
   "execution_count": 68,
   "id": "7fe88c3e",
   "metadata": {},
   "outputs": [],
   "source": [
    "def print_top_words(model, feature_names, n_top_words):\n",
    "    for topic_idx, topic in enumerate(model.components_):\n",
    "        print(\"Topic #%d: \" % topic_idx, end='')\n",
    "        print(\", \".join([feature_names[i] for i in topic.argsort()[:-n_top_words - 1:-1]]))\n",
    "        #print(\", \".join([feature_names[i]+'('+str(topic[i])+')' for i in topic.argsort()[:-n_top_words - 1:-1]]))\n",
    "        # 위 slicing에서 맨 뒤 -1은 역순을 의미, 역순으로 했을 때 처음부터 n_top_words까지\n",
    "    print()"
   ]
  },
  {
   "cell_type": "code",
   "execution_count": 70,
   "id": "c455c21c",
   "metadata": {},
   "outputs": [
    {
     "name": "stdout",
     "output_type": "stream",
     "text": [
      "Topic #0: 문의, 등록, 서류, 어업, 구비, 대해, 양식, 출장, 방법, 면허증\n",
      "Topic #1: 해당, 위반, 행위, 금지, 토지, 처벌, 하나, 법률, 포장, 이하\n",
      "Topic #2: 공무원, 근무, 사유, 승인, 휴직, 경우, 연금, 국가공무원, 보상, 질병\n",
      "Topic #3: 사람, 코로나, 때문, 보고, 한국, 정도, 또한, 준비, 지금, 현재\n",
      "Topic #4: 하나요, 경우, 대한, 위탁, 위해, 무엇, 연수, 근로자, 주소지, 방법\n",
      "Topic #5: 신청, 훈련, 희망, 단위, 일정, 서류, 예비군, 수가, 하나요, 횡단보도\n",
      "Topic #6: 검사, 예정, 이후, 휴가, 올해, 이번, 다시, 자가, 병역, 작년\n",
      "Topic #7: 기준, 무엇, 종류, 대해, 방법, 수리, 표기, 작업, 인력, 선원\n",
      "Topic #8: 절차, 하나요, 표지, 항로, 신고, 대해, 조회, 우리나라, 서류, 사설\n",
      "Topic #9: 여부, 선박, 무엇, 가능, 등록, 어선, 운송, 국제, 하나요, 신청\n",
      "Topic #10: 교육, 사항, 유치원, 교사, 현황, 교원, 입력, 자격증, 지침, 유아\n",
      "Topic #11: 신고, 번호, 인터넷, 본인, 가입, 요금, 전화, 명의, 폐업, 해지\n",
      "Topic #12: 관련, 내용, 발표, 세부, 방송, 방통위, 프로그램, 결과, 시청, 방송통신\n",
      "Topic #13: 개인, 포함, 과정, 학원, 교습, 설립, 대상, 이상, 과목, 인원\n",
      "Topic #14: 도로, 구역, 단속, 보호, 자동차, 조치, 인증, 어린이, 정비, 제기\n",
      "Topic #15: 경우, 선정, 추진, 산정, 이상, 급식, 기준, 센터, 의미, 방식\n",
      "Topic #16: 아이, 생각, 초등학교, 저희, 중학교, 입학, 졸업, 학년, 배정, 학부모\n",
      "Topic #17: 사업자, 주택, 아파트, 건물, 거주, 임대, 과세, 세대, 조정, 소유\n",
      "Topic #18: 운영, 조사, 현장, 주차장, 공개, 재배, 청소년, 감사, 공간, 입영\n",
      "Topic #19: 제도, 국가, 통해, 설명, 공급, 일부, 정책, 법령, 대한, 활용\n",
      "Topic #20: 기관, 계약, 시험, 접수, 조건, 경우, 임용, 응시, 합격, 자격\n",
      "Topic #21: 관리, 안전, 업무, 경력, 직원, 채용, 기업, 점검, 위험, 산업\n",
      "Topic #22: 처리, 생활, 배출, 폐기물, 부과, 처분, 비용, 대상, 부담, 시설\n",
      "Topic #23: 공사, 적용, 시행, 항만, 질의, 규정, 건축물, 건설, 고시, 건축\n",
      "Topic #24: 사용, 허가, 계획, 공유, 수면, 국유재산, 매립, 부지, 어항, 점용\n",
      "Topic #25: 하나요, 인정, 도서관, 경우, 범위, 공제, 대한, 방법, 세액, 반드시\n",
      "Topic #26: 보험, 확인, 혜택, 경우, 대해, 구입, 면제, 의료, 방법, 예산\n",
      "Topic #27: 민원, 피해, 계속, 상태, 다른, 답변, 병원, 도움, 상황, 담당\n",
      "Topic #28: 신청, 일반, 대출, 심사, 취업, 취소, 수산, 무엇, 방법, 모집\n",
      "Topic #29: 복무, 사회, 요원, 경우, 장학금, 기능, 대해, 소속, 구분, 보수\n",
      "Topic #30: 방법, 언제, 무엇, 기재, 지방, 하나요, 통신, 외부, 어디, 나무\n",
      "Topic #31: 제출, 소득, 증명서, 요건, 사실, 이해, 근로, 증명, 급여, 이름\n",
      "Topic #32: 납부, 금액, 세금, 카드, 거래, 결제, 부동산, 연락, 세무서, 상품\n",
      "Topic #33: 지원, 방문, 행정, 상황, 필요, 열람, 문화, 방역, 방법, 얼마나\n",
      "Topic #34: 이용, 차량, 버스, 모든, 운행, 협의, 도시, 부탁, 이동, 건의\n",
      "Topic #35: 대하, 경우, 청구, 이전, 면허, 전입, 정보공개, 방법, 하나요, 대한\n",
      "Topic #36: 변경, 기간, 추가, 등록증, 개월, 연장, 배우자, 기한, 체류, 유효\n",
      "Topic #37: 사업, 연구, 신규, 기초, 주민등록, 분야, 대학, 주소, 국적, 외국\n",
      "Topic #38: 학교, 학생, 시간, 교육청, 활동, 수업, 온라인, 강사, 방과후, 참여\n",
      "Topic #39: 현재, 외국인, 해외, 영업, 식품, 국내, 답변, 비자, 가지, 질문\n",
      "Topic #40: 지급, 자녀, 수당, 경우, 육아휴직, 수급, 운전, 운동, 기구, 미성년\n",
      "Topic #41: 자료, 회사, 개발, 기술, 진행, 물품, 용역, 진단, 이행, 완료\n",
      "Topic #42: 시설, 법인, 대상자, 장애인, 공원, 시민, 복지, 체육, 단체, 우선\n",
      "Topic #43: 설치, 요청, 주민, 해양, 쓰레기, 주변, 장소, 무단, 법적, 수거\n",
      "Topic #44: 판매, 업체, 표시, 평가, 제품, 환경, 결과, 입찰, 수입, 구매\n",
      "Topic #45: 지정, 가족, 제한, 개선, 관계, 개정, 담배, 근거, 거리, 문화재\n",
      "Topic #46: 위원회, 취득, 학교폭력, 심의, 결정, 위원, 대책, 상담, 예방, 조치\n",
      "Topic #47: 발생, 지역, 불법, 주차, 사고, 사진, 과태료, 첨부, 정차, 식별\n",
      "Topic #48: 발급, 확인, 여권, 재발, 분실, 전자, 기록, 미국, 사무소, 폐교\n",
      "Topic #49: 정보, 서비스, 안내, 광고, 동의, 제공, 위치, 목적, 별도, 문자\n",
      "\n"
     ]
    }
   ],
   "source": [
    "#topic modeling 수행\n",
    "lda = LatentDirichletAllocation(n_components = 50, max_iter=25, \n",
    "                                topic_word_prior= 0.1, doc_topic_prior=1.0,\n",
    "                                learning_method='batch',\n",
    "                                n_jobs= -1,\n",
    "                                random_state=0)\n",
    "news_topics = lda.fit_transform(text_CV)\n",
    "print_top_words(lda,vec.get_feature_names(), 10)"
   ]
  },
  {
   "cell_type": "markdown",
   "id": "29eaae17",
   "metadata": {},
   "source": [
    "#### 내용을 보니 불용어 처리가 필요해보임!!"
   ]
  },
  {
   "cell_type": "code",
   "execution_count": 72,
   "id": "254526e3",
   "metadata": {},
   "outputs": [],
   "source": [
    "from konlpy.tag import Okt\n",
    "tokenizer = Okt()\n",
    "\n",
    "nouns_data = []\n",
    "for i in text['질문내용'] :\n",
    "    nouns = tokenizer.nouns(i)\n",
    "    nouns_data.append(nouns)"
   ]
  },
  {
   "cell_type": "code",
   "execution_count": 78,
   "id": "a4fd342c",
   "metadata": {},
   "outputs": [
    {
     "data": {
      "text/plain": [
       "['불법', '정차', '과태료', '부과', '대상']"
      ]
     },
     "execution_count": 78,
     "metadata": {},
     "output_type": "execute_result"
    }
   ],
   "source": [
    "nouns_data[1]"
   ]
  },
  {
   "cell_type": "code",
   "execution_count": 79,
   "id": "747073f2",
   "metadata": {},
   "outputs": [],
   "source": [
    "noun_to_sent = []\n",
    "for i in nouns_data : \n",
    "    noun_to_sent.append([' '.join(i)])"
   ]
  },
  {
   "cell_type": "code",
   "execution_count": 80,
   "id": "34ac879a",
   "metadata": {},
   "outputs": [
    {
     "data": {
      "text/plain": [
       "['의성군 귀농 귀촌 정책 문의']"
      ]
     },
     "execution_count": 80,
     "metadata": {},
     "output_type": "execute_result"
    }
   ],
   "source": [
    "noun_to_sent[0]"
   ]
  },
  {
   "cell_type": "code",
   "execution_count": 81,
   "id": "8c172b47",
   "metadata": {},
   "outputs": [],
   "source": [
    "nouns_list = sum(nouns_data,[])"
   ]
  },
  {
   "cell_type": "code",
   "execution_count": 82,
   "id": "3a284ad7",
   "metadata": {},
   "outputs": [],
   "source": [
    "from collections import Counter\n",
    "count = Counter(nouns_list)\n",
    "most_word = count.most_common(5000)"
   ]
  },
  {
   "cell_type": "code",
   "execution_count": 83,
   "id": "57ad05da",
   "metadata": {},
   "outputs": [],
   "source": [
    "word = []\n",
    "count = []\n",
    "for i in most_word:\n",
    "    word.append(i[0])\n",
    "    count.append(i[1])"
   ]
  },
  {
   "cell_type": "code",
   "execution_count": 84,
   "id": "62e5b1f8",
   "metadata": {},
   "outputs": [
    {
     "data": {
      "text/html": [
       "<div>\n",
       "<style scoped>\n",
       "    .dataframe tbody tr th:only-of-type {\n",
       "        vertical-align: middle;\n",
       "    }\n",
       "\n",
       "    .dataframe tbody tr th {\n",
       "        vertical-align: top;\n",
       "    }\n",
       "\n",
       "    .dataframe thead th {\n",
       "        text-align: right;\n",
       "    }\n",
       "</style>\n",
       "<table border=\"1\" class=\"dataframe\">\n",
       "  <thead>\n",
       "    <tr style=\"text-align: right;\">\n",
       "      <th></th>\n",
       "      <th>단어</th>\n",
       "      <th>빈도</th>\n",
       "    </tr>\n",
       "  </thead>\n",
       "  <tbody>\n",
       "    <tr>\n",
       "      <th>0</th>\n",
       "      <td>수</td>\n",
       "      <td>7241</td>\n",
       "    </tr>\n",
       "    <tr>\n",
       "      <th>1</th>\n",
       "      <td>경우</td>\n",
       "      <td>6826</td>\n",
       "    </tr>\n",
       "    <tr>\n",
       "      <th>2</th>\n",
       "      <td>신청</td>\n",
       "      <td>5799</td>\n",
       "    </tr>\n",
       "    <tr>\n",
       "      <th>3</th>\n",
       "      <td>및</td>\n",
       "      <td>5161</td>\n",
       "    </tr>\n",
       "    <tr>\n",
       "      <th>4</th>\n",
       "      <td>것</td>\n",
       "      <td>4983</td>\n",
       "    </tr>\n",
       "  </tbody>\n",
       "</table>\n",
       "</div>"
      ],
      "text/plain": [
       "   단어    빈도\n",
       "0   수  7241\n",
       "1  경우  6826\n",
       "2  신청  5799\n",
       "3   및  5161\n",
       "4   것  4983"
      ]
     },
     "execution_count": 84,
     "metadata": {},
     "output_type": "execute_result"
    }
   ],
   "source": [
    "count_excel = pd.DataFrame()\n",
    "count_excel[\"단어\"] = word\n",
    "count_excel[\"빈도\"] = count\n",
    "count_excel.head()"
   ]
  },
  {
   "cell_type": "code",
   "execution_count": 88,
   "id": "4e27d79c",
   "metadata": {},
   "outputs": [],
   "source": [
    "count_excel.to_csv('word_count.csv')"
   ]
  },
  {
   "cell_type": "code",
   "execution_count": 89,
   "id": "4c44ab1c",
   "metadata": {},
   "outputs": [
    {
     "data": {
      "text/html": [
       "<div>\n",
       "<style scoped>\n",
       "    .dataframe tbody tr th:only-of-type {\n",
       "        vertical-align: middle;\n",
       "    }\n",
       "\n",
       "    .dataframe tbody tr th {\n",
       "        vertical-align: top;\n",
       "    }\n",
       "\n",
       "    .dataframe thead th {\n",
       "        text-align: right;\n",
       "    }\n",
       "</style>\n",
       "<table border=\"1\" class=\"dataframe\">\n",
       "  <thead>\n",
       "    <tr style=\"text-align: right;\">\n",
       "      <th></th>\n",
       "      <th>Unnamed: 0</th>\n",
       "      <th>단어</th>\n",
       "      <th>빈도</th>\n",
       "    </tr>\n",
       "  </thead>\n",
       "  <tbody>\n",
       "    <tr>\n",
       "      <th>0</th>\n",
       "      <td>0</td>\n",
       "      <td>수</td>\n",
       "      <td>7241</td>\n",
       "    </tr>\n",
       "    <tr>\n",
       "      <th>1</th>\n",
       "      <td>1</td>\n",
       "      <td>경우</td>\n",
       "      <td>6826</td>\n",
       "    </tr>\n",
       "    <tr>\n",
       "      <th>2</th>\n",
       "      <td>2</td>\n",
       "      <td>신청</td>\n",
       "      <td>5799</td>\n",
       "    </tr>\n",
       "  </tbody>\n",
       "</table>\n",
       "</div>"
      ],
      "text/plain": [
       "   Unnamed: 0  단어    빈도\n",
       "0           0   수  7241\n",
       "1           1  경우  6826\n",
       "2           2  신청  5799"
      ]
     },
     "execution_count": 89,
     "metadata": {},
     "output_type": "execute_result"
    }
   ],
   "source": [
    "stop_data = pd.read_csv(\"word_count.csv\")\n",
    "stop_data[0:3]"
   ]
  },
  {
   "cell_type": "code",
   "execution_count": 92,
   "id": "e10eeab7",
   "metadata": {},
   "outputs": [],
   "source": [
    "stop_words = list(stop_data[\"단어\"][stop_data.빈도>2000])"
   ]
  },
  {
   "cell_type": "code",
   "execution_count": 94,
   "id": "17dd8e60",
   "metadata": {},
   "outputs": [
    {
     "data": {
      "text/plain": [
       "['수',\n",
       " '경우',\n",
       " '신청',\n",
       " '및',\n",
       " '것',\n",
       " '신고',\n",
       " '알',\n",
       " '하나요',\n",
       " '등',\n",
       " '무엇',\n",
       " '방법',\n",
       " '시',\n",
       " '제',\n",
       " '관련',\n",
       " '사업',\n",
       " '문의',\n",
       " '사용',\n",
       " '학교',\n",
       " '대해',\n",
       " '등록',\n",
       " '절차',\n",
       " '시설',\n",
       " '서류',\n",
       " '기준',\n",
       " '내용',\n",
       " '확인',\n",
       " '변경',\n",
       " '발급',\n",
       " '대한',\n",
       " '관리',\n",
       " '후',\n",
       " '처리',\n",
       " '지원',\n",
       " '민원',\n",
       " '중',\n",
       " '대상',\n",
       " '이']"
      ]
     },
     "execution_count": 94,
     "metadata": {},
     "output_type": "execute_result"
    }
   ],
   "source": [
    "stop_words"
   ]
  },
  {
   "cell_type": "code",
   "execution_count": 95,
   "id": "f9ee78fd",
   "metadata": {},
   "outputs": [],
   "source": [
    "clean_data = [list(filter(lambda z: z not in stop_words, x)) for x in nouns_data]"
   ]
  },
  {
   "cell_type": "code",
   "execution_count": 96,
   "id": "4d914cba",
   "metadata": {},
   "outputs": [
    {
     "data": {
      "text/plain": [
       "['의성군', '귀농', '귀촌', '정책']"
      ]
     },
     "execution_count": 96,
     "metadata": {},
     "output_type": "execute_result"
    }
   ],
   "source": [
    "clean_data[0]"
   ]
  },
  {
   "cell_type": "code",
   "execution_count": 107,
   "id": "e552f728",
   "metadata": {},
   "outputs": [],
   "source": [
    "noun_to_sent = []\n",
    "for i in clean_data : \n",
    "    noun_to_sent.append(' '.join(i))"
   ]
  },
  {
   "cell_type": "code",
   "execution_count": 108,
   "id": "d8f0bc17",
   "metadata": {},
   "outputs": [
    {
     "data": {
      "text/plain": [
       "'의성군 귀농 귀촌 정책'"
      ]
     },
     "execution_count": 108,
     "metadata": {},
     "output_type": "execute_result"
    }
   ],
   "source": [
    "noun_to_sent[0]"
   ]
  },
  {
   "cell_type": "code",
   "execution_count": 109,
   "id": "7f45be38",
   "metadata": {},
   "outputs": [],
   "source": [
    "clean_df = pd.DataFrame() \n",
    "clean_df[\"contents\"]  = noun_to_sent"
   ]
  },
  {
   "cell_type": "code",
   "execution_count": 110,
   "id": "44519dd1",
   "metadata": {},
   "outputs": [
    {
     "data": {
      "text/plain": [
       "'의성군 귀농 귀촌 정책'"
      ]
     },
     "execution_count": 110,
     "metadata": {},
     "output_type": "execute_result"
    }
   ],
   "source": [
    "clean_df[\"contents\"][0] "
   ]
  },
  {
   "cell_type": "code",
   "execution_count": 111,
   "id": "f223fa86",
   "metadata": {},
   "outputs": [
    {
     "data": {
      "text/html": [
       "<div>\n",
       "<style scoped>\n",
       "    .dataframe tbody tr th:only-of-type {\n",
       "        vertical-align: middle;\n",
       "    }\n",
       "\n",
       "    .dataframe tbody tr th {\n",
       "        vertical-align: top;\n",
       "    }\n",
       "\n",
       "    .dataframe thead th {\n",
       "        text-align: right;\n",
       "    }\n",
       "</style>\n",
       "<table border=\"1\" class=\"dataframe\">\n",
       "  <thead>\n",
       "    <tr style=\"text-align: right;\">\n",
       "      <th></th>\n",
       "      <th>contents</th>\n",
       "    </tr>\n",
       "  </thead>\n",
       "  <tbody>\n",
       "    <tr>\n",
       "      <th>0</th>\n",
       "      <td>의성군 귀농 귀촌 정책</td>\n",
       "    </tr>\n",
       "    <tr>\n",
       "      <th>1</th>\n",
       "      <td>불법 정차 과태료 부과</td>\n",
       "    </tr>\n",
       "    <tr>\n",
       "      <th>2</th>\n",
       "      <td>아동 수당 지급</td>\n",
       "    </tr>\n",
       "    <tr>\n",
       "      <th>3</th>\n",
       "      <td>광견병 예방접종 질문 사항 의성군 광견병 접종 예방 계획 신지 기간 언제 언제 장소...</td>\n",
       "    </tr>\n",
       "    <tr>\n",
       "      <th>4</th>\n",
       "      <td>아동 수당 지급 금액 지급 일자</td>\n",
       "    </tr>\n",
       "    <tr>\n",
       "      <th>...</th>\n",
       "      <td>...</td>\n",
       "    </tr>\n",
       "    <tr>\n",
       "      <th>50731</th>\n",
       "      <td>연안 복합 낚시 선의 등화 광력</td>\n",
       "    </tr>\n",
       "    <tr>\n",
       "      <th>50732</th>\n",
       "      <td>해 기사 시험 시행</td>\n",
       "    </tr>\n",
       "    <tr>\n",
       "      <th>50733</th>\n",
       "      <td>유선 선원 법 법령 적용 여부</td>\n",
       "    </tr>\n",
       "    <tr>\n",
       "      <th>50734</th>\n",
       "      <td>집합 투자 업 요건</td>\n",
       "    </tr>\n",
       "    <tr>\n",
       "      <th>50735</th>\n",
       "      <td>의심 거래 보고 란</td>\n",
       "    </tr>\n",
       "  </tbody>\n",
       "</table>\n",
       "<p>50736 rows × 1 columns</p>\n",
       "</div>"
      ],
      "text/plain": [
       "                                                contents\n",
       "0                                           의성군 귀농 귀촌 정책\n",
       "1                                           불법 정차 과태료 부과\n",
       "2                                               아동 수당 지급\n",
       "3      광견병 예방접종 질문 사항 의성군 광견병 접종 예방 계획 신지 기간 언제 언제 장소...\n",
       "4                                      아동 수당 지급 금액 지급 일자\n",
       "...                                                  ...\n",
       "50731                                  연안 복합 낚시 선의 등화 광력\n",
       "50732                                         해 기사 시험 시행\n",
       "50733                                   유선 선원 법 법령 적용 여부\n",
       "50734                                         집합 투자 업 요건\n",
       "50735                                         의심 거래 보고 란\n",
       "\n",
       "[50736 rows x 1 columns]"
      ]
     },
     "execution_count": 111,
     "metadata": {},
     "output_type": "execute_result"
    }
   ],
   "source": [
    "clean_df"
   ]
  },
  {
   "cell_type": "code",
   "execution_count": 116,
   "id": "13891f53",
   "metadata": {},
   "outputs": [],
   "source": [
    "from konlpy.tag import Okt\n",
    "tag = Okt()\n",
    "from sklearn.feature_extraction.text import CountVectorizer\n",
    "from sklearn.decomposition import LatentDirichletAllocation"
   ]
  },
  {
   "cell_type": "code",
   "execution_count": 122,
   "id": "e3def894",
   "metadata": {},
   "outputs": [],
   "source": [
    "vec = CountVectorizer(tokenizer=tokenizer, decode_error ='ignore', \n",
    "                      max_df=0.5, max_features = 1000) #너무 자주 나타나는 단어는 제외\n",
    "text_stop_cv = vec.fit_transform(clean_df['contents'])"
   ]
  },
  {
   "cell_type": "code",
   "execution_count": 123,
   "id": "20d25d79",
   "metadata": {},
   "outputs": [],
   "source": [
    "def print_top_words(model, feature_names, n_top_words):\n",
    "    for topic_idx, topic in enumerate(model.components_):\n",
    "        print(\"Topic #%d: \" % topic_idx, end='')\n",
    "        print(\", \".join([feature_names[i] for i in topic.argsort()[:-n_top_words - 1:-1]]))\n",
    "        #print(\", \".join([feature_names[i]+'('+str(topic[i])+')' for i in topic.argsort()[:-n_top_words - 1:-1]]))\n",
    "        # 위 slicing에서 맨 뒤 -1은 역순을 의미, 역순으로 했을 때 처음부터 n_top_words까지\n",
    "    print()"
   ]
  },
  {
   "cell_type": "code",
   "execution_count": 124,
   "id": "d2144589",
   "metadata": {},
   "outputs": [
    {
     "name": "stdout",
     "output_type": "stream",
     "text": [
      "Topic #0: 개인, 과정, 학원, 교육청, 교습, 조건, 설립, 강사, 과목, 실제\n",
      "Topic #1: 주차, 구역, 장애인, 주차장, 정책, 전용, 대표, 지역, 충주시, 단지\n",
      "Topic #2: 주택, 아파트, 거주, 임대, 과세, 세대, 조정, 공동, 보유, 소유\n",
      "Topic #3: 영업, 식품, 건강, 급식, 기능, 수산물, 판매업, 원료, 개별, 원인\n",
      "Topic #4: 안전, 업무, 기업, 점검, 위험, 실시, 항목, 중소기업, 관리자, 규제\n",
      "Topic #5: 사람, 단속, 공원, 쓰레기, 시민, 장소, 마스크, 무단, 시청, 마을\n",
      "Topic #6: 인터넷, 청구, 접수, 이전, 요금, 명의, 정보공개, 해지, 통신사, 응시\n",
      "Topic #7: 포함, 훈련, 교육, 올해, 지방, 기한, 특별, 기록, 소득세, 예비군\n",
      "Topic #8: 운영, 현황, 표지, 항로, 위탁, 방과후, 추진, 사설, 제작, 차로\n",
      "Topic #9: 허가, 계획, 행위, 개발, 연구, 기초, 토지, 공유, 수면, 분야\n",
      "Topic #10: 교육, 직원, 보고, 건가, 하나, 재배, 다른, 가지, 담당자, 구분\n",
      "Topic #11: 공사, 시행, 항만, 현장, 건설, 건축, 산업, 용역, 발전, 실시\n",
      "Topic #12: 지역, 생각, 방송, 문제, 프로그램, 휴가, 우리, 해결, 선택, 청소년\n",
      "Topic #13: 언제, 어디, 제도, 폐업, 우리나라, 국립, 선발, 이용자, 우수, 혁신\n",
      "Topic #14: 번호, 가족, 사실, 이유, 관계, 행정, 주민등록, 국적, 유지, 국민\n",
      "Topic #15: 아이, 초등학교, 저희, 중학교, 학년, 입학, 부동산, 배정, 고등학교, 전학\n",
      "Topic #16: 유치원, 교사, 대상자, 교원, 입력, 자격증, 지침, 유아, 교실, 우선\n",
      "Topic #17: 사업자, 졸업, 온라인, 수산, 처벌, 세액, 조회, 통신, 법적, 정정\n",
      "Topic #18: 제출, 납부, 세금, 카드, 거래, 결제, 작성, 세무서, 현금, 현금영수증\n",
      "Topic #19: 업체, 소득, 금액, 요건, 이해, 급여, 공제, 제외, 근로, 산정\n",
      "Topic #20: 기간, 자녀, 개월, 입찰, 휴직, 국가공무원, 육아휴직, 연수, 공고, 부여\n",
      "Topic #21: 지정, 보호, 제한, 담배, 개정, 어린이, 거리, 단체, 소매, 위치\n",
      "Topic #22: 시간, 주민, 주변, 때문, 정도, 시작, 불편, 의견, 제기, 매우\n",
      "Topic #23: 설치, 위반, 해양, 금지, 협의, 운동, 방향, 신호, 중앙, 차선\n",
      "Topic #24: 적용, 규정, 이상, 질의, 해당, 부분, 건축물, 법률, 고시, 공급\n",
      "Topic #25: 선박, 가입, 조사, 수리, 보상, 문화재, 전자, 작업, 업자, 장비\n",
      "Topic #26: 검사, 진행, 자동차, 보험, 수업, 병역, 퇴직, 무료, 판정, 체험\n",
      "Topic #27: 학생, 위원회, 증명서, 조치, 학교폭력, 심의, 대책, 법령, 예방, 특정\n",
      "Topic #28: 발표, 세부, 결과, 의무, 방통위, 취소, 방송통신, 대체, 성적, 종료\n",
      "Topic #29: 피해, 계속, 전화, 설명, 상담, 혹시, 병원, 도움, 해도, 부서\n",
      "Topic #30: 자료, 시험, 기술, 구매, 생산, 의료, 물품, 기사, 측정, 진단\n",
      "Topic #31: 다시, 법인, 지금, 상황, 연락, 직접, 질병, 치료, 작년, 담당\n",
      "Topic #32: 외국인, 등록증, 방문, 면허, 재발, 주소, 외국, 기간, 분실, 수령\n",
      "Topic #33: 도로, 건물, 결정, 복지, 판단, 예산, 활용, 보관, 인도, 통행\n",
      "Topic #34: 여부, 범위, 가능, 사유, 구입, 자가, 가요, 출장, 무인, 금융\n",
      "Topic #35: 대하, 국가, 활동, 혜택, 구비, 수급, 수수료, 정부, 구성, 운송\n",
      "Topic #36: 정보, 서비스, 안내, 광고, 동의, 제공, 목적, 별도, 문자, 고객\n",
      "Topic #37: 판매, 표시, 평가, 제품, 환경, 인증, 수입, 개선, 제조, 포장\n",
      "Topic #38: 복무, 인정, 사회, 수당, 요원, 모집, 소속, 희망, 봉사활동, 교육\n",
      "Topic #39: 지급, 코로나, 근무, 어업, 어선, 사망, 방역, 부산, 신분증, 공익\n",
      "Topic #40: 발생, 불법, 부과, 사고, 사진, 과태료, 첨부, 정차, 식별, 숫자\n",
      "Topic #41: 생활, 배출, 폐기물, 처분, 비용, 연금, 부담, 시스템, 누구, 공단\n",
      "Topic #42: 이용, 사항, 대학, 공개, 인력, 자전거, 이동, 특성, 요청, 구비\n",
      "Topic #43: 도서관, 종류, 참여, 신규, 학습, 중인, 양식, 통합, 입영, 구체\n",
      "Topic #44: 계약, 회사, 이후, 일부, 운전, 이행, 완료, 상태, 일자, 확정\n",
      "Topic #45: 자격, 본인, 취득, 배우자, 전입, 필요, 정비, 국제, 결혼, 직업\n",
      "Topic #46: 기관, 공무원, 여권, 경력, 국내, 채용, 임용, 이름, 만약, 합격\n",
      "Topic #47: 센터, 일반, 대출, 심사, 취업, 승인, 위원, 장학금, 체육, 홈페이지\n",
      "Topic #48: 차량, 버스, 모든, 운행, 도시, 단위, 건의, 교통, 광주, 충전\n",
      "Topic #49: 현재, 한국, 해외, 비자, 예정, 연장, 질문, 준비, 면제, 체류\n",
      "\n"
     ]
    }
   ],
   "source": [
    "#topic modeling 수행\n",
    "lda = LatentDirichletAllocation(n_components = 50, max_iter=25, \n",
    "                                topic_word_prior= 0.1, doc_topic_prior=1.0,\n",
    "                                learning_method='batch',\n",
    "                                n_jobs= -1,\n",
    "                                random_state=0)\n",
    "news_topics = lda.fit_transform(text_stop_cv)\n",
    "print_top_words(lda,vec.get_feature_names(), 10)"
   ]
  },
  {
   "cell_type": "code",
   "execution_count": null,
   "id": "fca175aa",
   "metadata": {},
   "outputs": [],
   "source": []
  }
 ],
 "metadata": {
  "kernelspec": {
   "display_name": "Python 3",
   "language": "python",
   "name": "python3"
  },
  "language_info": {
   "codemirror_mode": {
    "name": "ipython",
    "version": 3
   },
   "file_extension": ".py",
   "mimetype": "text/x-python",
   "name": "python",
   "nbconvert_exporter": "python",
   "pygments_lexer": "ipython3",
   "version": "3.8.8"
  }
 },
 "nbformat": 4,
 "nbformat_minor": 5
}
