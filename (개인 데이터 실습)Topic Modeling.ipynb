{
 "cells": [
  {
   "cell_type": "code",
   "execution_count": 1,
   "id": "67f5bbdc",
   "metadata": {},
   "outputs": [],
   "source": [
    "import pandas as pd\n",
    "\n",
    "text = pd.read_csv(\"민원데이터.csv\", encoding=\"utf-8\")"
   ]
  },
  {
   "cell_type": "code",
   "execution_count": 2,
   "id": "cf5abb7c",
   "metadata": {
    "scrolled": true
   },
   "outputs": [
    {
     "data": {
      "text/html": [
       "<div>\n",
       "<style scoped>\n",
       "    .dataframe tbody tr th:only-of-type {\n",
       "        vertical-align: middle;\n",
       "    }\n",
       "\n",
       "    .dataframe tbody tr th {\n",
       "        vertical-align: top;\n",
       "    }\n",
       "\n",
       "    .dataframe thead th {\n",
       "        text-align: right;\n",
       "    }\n",
       "</style>\n",
       "<table border=\"1\" class=\"dataframe\">\n",
       "  <thead>\n",
       "    <tr style=\"text-align: right;\">\n",
       "      <th></th>\n",
       "      <th>제목</th>\n",
       "      <th>질문내용</th>\n",
       "      <th>답변내용</th>\n",
       "      <th>등록일시</th>\n",
       "      <th>최상위기관명</th>\n",
       "      <th>분야코드</th>\n",
       "      <th>분야명</th>\n",
       "      <th>담당부서명</th>\n",
       "    </tr>\n",
       "  </thead>\n",
       "  <tbody>\n",
       "    <tr>\n",
       "      <th>0</th>\n",
       "      <td>의성군 귀농귀촌 정책 문의</td>\n",
       "      <td>의성군 귀농귀촌 정책 문의</td>\n",
       "      <td>1. 우선 저희 의성군으로 귀농·귀촌하고자 하셔서 감사합니다.\\n \\n2. 귀농·귀...</td>\n",
       "      <td>2021-08-27 오후 3:31:44</td>\n",
       "      <td>경상북도 의성군</td>\n",
       "      <td>20010010</td>\n",
       "      <td>행정/자치/안전</td>\n",
       "      <td>농업기술센터</td>\n",
       "    </tr>\n",
       "    <tr>\n",
       "      <th>1</th>\n",
       "      <td>불법주정차 신고합니다</td>\n",
       "      <td>5대 불법주정차 과태료 부과 대상</td>\n",
       "      <td>1. 귀하의 가정에 평안함과 행복을 기원합니다. 귀하께서 국민신문고로 요청하신 사항...</td>\n",
       "      <td>2021-08-27 오후 1:49:33</td>\n",
       "      <td>경상북도 의성군</td>\n",
       "      <td>20010010</td>\n",
       "      <td>행정/자치/안전</td>\n",
       "      <td>일자리창출과</td>\n",
       "    </tr>\n",
       "    <tr>\n",
       "      <th>2</th>\n",
       "      <td>아동수당 지급 대상</td>\n",
       "      <td>아동수당 지급 대상이 궁금합니다.</td>\n",
       "      <td>1. 안녕하십니까? 귀하께서 문의하신 질의에 대한 답변을 다음과 같이 알려드립니다....</td>\n",
       "      <td>2021-08-27 오후 4:19:51</td>\n",
       "      <td>경상북도 의성군</td>\n",
       "      <td>20010010</td>\n",
       "      <td>행정/자치/안전</td>\n",
       "      <td>복지과</td>\n",
       "    </tr>\n",
       "    <tr>\n",
       "      <th>3</th>\n",
       "      <td>광견병 예방 접종 관련 문의</td>\n",
       "      <td>광견병 예방접종 질문사항.\\n1. 의성군에서  광견병 접종 예방 계획이 있으신지요?...</td>\n",
       "      <td>안녕하십니까?\\n1. 귀하께서 국민신문고를 통해 신청하신 민원에 대한 검토 결과를 ...</td>\n",
       "      <td>2021-08-27 오후 4:18:09</td>\n",
       "      <td>경상북도 의성군</td>\n",
       "      <td>20010010</td>\n",
       "      <td>행정/자치/안전</td>\n",
       "      <td>농축산과</td>\n",
       "    </tr>\n",
       "    <tr>\n",
       "      <th>4</th>\n",
       "      <td>아동수당 지급 금액과 지급 일자</td>\n",
       "      <td>아동수당 지급 금액과 지급 일자가 궁금합니다.</td>\n",
       "      <td>1. 안녕하십니까? 귀하께서 문의하신 질의에 대한 답변을 다음과 같이 알려드립니다....</td>\n",
       "      <td>2021-08-27 오후 4:24:24</td>\n",
       "      <td>경상북도 의성군</td>\n",
       "      <td>20010010</td>\n",
       "      <td>행정/자치/안전</td>\n",
       "      <td>복지과</td>\n",
       "    </tr>\n",
       "  </tbody>\n",
       "</table>\n",
       "</div>"
      ],
      "text/plain": [
       "                  제목                                               질문내용  \\\n",
       "0     의성군 귀농귀촌 정책 문의                                     의성군 귀농귀촌 정책 문의   \n",
       "1        불법주정차 신고합니다                                 5대 불법주정차 과태료 부과 대상   \n",
       "2         아동수당 지급 대상                                 아동수당 지급 대상이 궁금합니다.   \n",
       "3    광견병 예방 접종 관련 문의  광견병 예방접종 질문사항.\\n1. 의성군에서  광견병 접종 예방 계획이 있으신지요?...   \n",
       "4  아동수당 지급 금액과 지급 일자                          아동수당 지급 금액과 지급 일자가 궁금합니다.   \n",
       "\n",
       "                                                답변내용                   등록일시  \\\n",
       "0  1. 우선 저희 의성군으로 귀농·귀촌하고자 하셔서 감사합니다.\\n \\n2. 귀농·귀...  2021-08-27 오후 3:31:44   \n",
       "1  1. 귀하의 가정에 평안함과 행복을 기원합니다. 귀하께서 국민신문고로 요청하신 사항...  2021-08-27 오후 1:49:33   \n",
       "2  1. 안녕하십니까? 귀하께서 문의하신 질의에 대한 답변을 다음과 같이 알려드립니다....  2021-08-27 오후 4:19:51   \n",
       "3  안녕하십니까?\\n1. 귀하께서 국민신문고를 통해 신청하신 민원에 대한 검토 결과를 ...  2021-08-27 오후 4:18:09   \n",
       "4  1. 안녕하십니까? 귀하께서 문의하신 질의에 대한 답변을 다음과 같이 알려드립니다....  2021-08-27 오후 4:24:24   \n",
       "\n",
       "     최상위기관명      분야코드       분야명   담당부서명  \n",
       "0  경상북도 의성군  20010010  행정/자치/안전  농업기술센터  \n",
       "1  경상북도 의성군  20010010  행정/자치/안전  일자리창출과  \n",
       "2  경상북도 의성군  20010010  행정/자치/안전     복지과  \n",
       "3  경상북도 의성군  20010010  행정/자치/안전    농축산과  \n",
       "4  경상북도 의성군  20010010  행정/자치/안전     복지과  "
      ]
     },
     "execution_count": 2,
     "metadata": {},
     "output_type": "execute_result"
    }
   ],
   "source": [
    "text.head()"
   ]
  },
  {
   "cell_type": "code",
   "execution_count": 3,
   "id": "a9e6f8b8",
   "metadata": {},
   "outputs": [],
   "source": [
    "text = text.dropna()"
   ]
  },
  {
   "cell_type": "code",
   "execution_count": 4,
   "id": "c83c14e6",
   "metadata": {},
   "outputs": [
    {
     "data": {
      "text/plain": [
       "False"
      ]
     },
     "execution_count": 4,
     "metadata": {},
     "output_type": "execute_result"
    }
   ],
   "source": [
    "text.isna().any().any()"
   ]
  },
  {
   "cell_type": "code",
   "execution_count": 5,
   "id": "acd574ed",
   "metadata": {},
   "outputs": [],
   "source": [
    "from konlpy.tag import Okt\n",
    "tag = Okt()\n",
    "\n",
    "from sklearn.feature_extraction.text import CountVectorizer\n",
    "from sklearn.decomposition import LatentDirichletAllocation"
   ]
  },
  {
   "cell_type": "code",
   "execution_count": 6,
   "id": "6150c0d5",
   "metadata": {},
   "outputs": [],
   "source": [
    "def tokenizer(str):\n",
    "    return [token for token in tag.nouns(str) if len(token) > 1]"
   ]
  },
  {
   "cell_type": "code",
   "execution_count": 7,
   "id": "e5bb12f7",
   "metadata": {},
   "outputs": [],
   "source": [
    "#count vector 새로 생성\n",
    "vec = CountVectorizer(tokenizer=tokenizer, decode_error ='ignore', \n",
    "                      max_df=0.5, max_features = 1000) #너무 자주 나타나는 단어는 제외\n",
    "text_CV = vec.fit_transform(text['질문내용'])"
   ]
  },
  {
   "cell_type": "code",
   "execution_count": 8,
   "id": "7fe88c3e",
   "metadata": {},
   "outputs": [],
   "source": [
    "def print_top_words(model, feature_names, n_top_words):\n",
    "    for topic_idx, topic in enumerate(model.components_):\n",
    "        print(\"Topic #%d: \" % topic_idx, end='')\n",
    "        print(\", \".join([feature_names[i] for i in topic.argsort()[:-n_top_words - 1:-1]]))\n",
    "        #print(\", \".join([feature_names[i]+'('+str(topic[i])+')' for i in topic.argsort()[:-n_top_words - 1:-1]]))\n",
    "        # 위 slicing에서 맨 뒤 -1은 역순을 의미, 역순으로 했을 때 처음부터 n_top_words까지\n",
    "    print()"
   ]
  },
  {
   "cell_type": "code",
   "execution_count": 9,
   "id": "c455c21c",
   "metadata": {},
   "outputs": [
    {
     "name": "stdout",
     "output_type": "stream",
     "text": [
      "Topic #0: 문의, 등록, 서류, 어업, 구비, 대해, 양식, 출장, 방법, 면허증\n",
      "Topic #1: 해당, 위반, 행위, 금지, 토지, 처벌, 하나, 법률, 포장, 이하\n",
      "Topic #2: 공무원, 근무, 사유, 승인, 휴직, 경우, 연금, 국가공무원, 보상, 질병\n",
      "Topic #3: 사람, 코로나, 때문, 보고, 한국, 정도, 또한, 준비, 지금, 현재\n",
      "Topic #4: 하나요, 경우, 대한, 위탁, 위해, 무엇, 연수, 근로자, 주소지, 방법\n",
      "Topic #5: 신청, 훈련, 희망, 단위, 일정, 서류, 예비군, 수가, 하나요, 횡단보도\n",
      "Topic #6: 검사, 예정, 이후, 휴가, 올해, 이번, 다시, 자가, 병역, 작년\n",
      "Topic #7: 기준, 무엇, 종류, 대해, 방법, 수리, 표기, 작업, 인력, 선원\n",
      "Topic #8: 절차, 하나요, 표지, 항로, 신고, 대해, 조회, 우리나라, 서류, 사설\n",
      "Topic #9: 여부, 선박, 무엇, 가능, 등록, 어선, 운송, 국제, 하나요, 신청\n",
      "Topic #10: 교육, 사항, 유치원, 교사, 현황, 교원, 입력, 자격증, 지침, 유아\n",
      "Topic #11: 신고, 번호, 인터넷, 본인, 가입, 요금, 전화, 명의, 폐업, 해지\n",
      "Topic #12: 관련, 내용, 발표, 세부, 방송, 방통위, 프로그램, 결과, 시청, 방송통신\n",
      "Topic #13: 개인, 포함, 과정, 학원, 교습, 설립, 대상, 이상, 과목, 인원\n",
      "Topic #14: 도로, 구역, 단속, 보호, 자동차, 조치, 인증, 어린이, 정비, 제기\n",
      "Topic #15: 경우, 선정, 추진, 산정, 이상, 급식, 기준, 센터, 의미, 방식\n",
      "Topic #16: 아이, 생각, 초등학교, 저희, 중학교, 입학, 졸업, 학년, 배정, 학부모\n",
      "Topic #17: 사업자, 주택, 아파트, 건물, 거주, 임대, 과세, 세대, 조정, 소유\n",
      "Topic #18: 운영, 조사, 현장, 주차장, 공개, 재배, 청소년, 감사, 공간, 입영\n",
      "Topic #19: 제도, 국가, 통해, 설명, 공급, 일부, 정책, 법령, 대한, 활용\n",
      "Topic #20: 기관, 계약, 시험, 접수, 조건, 경우, 임용, 응시, 합격, 자격\n",
      "Topic #21: 관리, 안전, 업무, 경력, 직원, 채용, 기업, 점검, 위험, 산업\n",
      "Topic #22: 처리, 생활, 배출, 폐기물, 부과, 처분, 비용, 대상, 부담, 시설\n",
      "Topic #23: 공사, 적용, 시행, 항만, 질의, 규정, 건축물, 건설, 고시, 건축\n",
      "Topic #24: 사용, 허가, 계획, 공유, 수면, 국유재산, 매립, 부지, 어항, 점용\n",
      "Topic #25: 하나요, 인정, 도서관, 경우, 범위, 공제, 대한, 방법, 세액, 반드시\n",
      "Topic #26: 보험, 확인, 혜택, 경우, 대해, 구입, 면제, 의료, 방법, 예산\n",
      "Topic #27: 민원, 피해, 계속, 상태, 다른, 답변, 병원, 도움, 상황, 담당\n",
      "Topic #28: 신청, 일반, 대출, 심사, 취업, 취소, 수산, 무엇, 방법, 모집\n",
      "Topic #29: 복무, 사회, 요원, 경우, 장학금, 기능, 대해, 소속, 구분, 보수\n",
      "Topic #30: 방법, 언제, 무엇, 기재, 지방, 하나요, 통신, 외부, 어디, 나무\n",
      "Topic #31: 제출, 소득, 증명서, 요건, 사실, 이해, 근로, 증명, 급여, 이름\n",
      "Topic #32: 납부, 금액, 세금, 카드, 거래, 결제, 부동산, 연락, 세무서, 상품\n",
      "Topic #33: 지원, 방문, 행정, 상황, 필요, 열람, 문화, 방역, 방법, 얼마나\n",
      "Topic #34: 이용, 차량, 버스, 모든, 운행, 협의, 도시, 부탁, 이동, 건의\n",
      "Topic #35: 대하, 경우, 청구, 이전, 면허, 전입, 정보공개, 방법, 하나요, 대한\n",
      "Topic #36: 변경, 기간, 추가, 등록증, 개월, 연장, 배우자, 기한, 체류, 유효\n",
      "Topic #37: 사업, 연구, 신규, 기초, 주민등록, 분야, 대학, 주소, 국적, 외국\n",
      "Topic #38: 학교, 학생, 시간, 교육청, 활동, 수업, 온라인, 강사, 방과후, 참여\n",
      "Topic #39: 현재, 외국인, 해외, 영업, 식품, 국내, 답변, 비자, 가지, 질문\n",
      "Topic #40: 지급, 자녀, 수당, 경우, 육아휴직, 수급, 운전, 운동, 기구, 미성년\n",
      "Topic #41: 자료, 회사, 개발, 기술, 진행, 물품, 용역, 진단, 이행, 완료\n",
      "Topic #42: 시설, 법인, 대상자, 장애인, 공원, 시민, 복지, 체육, 단체, 우선\n",
      "Topic #43: 설치, 요청, 주민, 해양, 쓰레기, 주변, 장소, 무단, 법적, 수거\n",
      "Topic #44: 판매, 업체, 표시, 평가, 제품, 환경, 결과, 입찰, 수입, 구매\n",
      "Topic #45: 지정, 가족, 제한, 개선, 관계, 개정, 담배, 근거, 거리, 문화재\n",
      "Topic #46: 위원회, 취득, 학교폭력, 심의, 결정, 위원, 대책, 상담, 예방, 조치\n",
      "Topic #47: 발생, 지역, 불법, 주차, 사고, 사진, 과태료, 첨부, 정차, 식별\n",
      "Topic #48: 발급, 확인, 여권, 재발, 분실, 전자, 기록, 미국, 사무소, 폐교\n",
      "Topic #49: 정보, 서비스, 안내, 광고, 동의, 제공, 위치, 목적, 별도, 문자\n",
      "\n"
     ]
    }
   ],
   "source": [
    "#topic modeling 수행\n",
    "lda = LatentDirichletAllocation(n_components = 50, max_iter=25, \n",
    "                                topic_word_prior= 0.1, doc_topic_prior=1.0,\n",
    "                                learning_method='batch',\n",
    "                                n_jobs= -1,\n",
    "                                random_state=0)\n",
    "news_topics = lda.fit_transform(text_CV)\n",
    "print_top_words(lda,vec.get_feature_names(), 10)"
   ]
  },
  {
   "cell_type": "markdown",
   "id": "29eaae17",
   "metadata": {},
   "source": [
    "#### 내용을 보니 불용어 처리가 필요해보임!!"
   ]
  },
  {
   "cell_type": "code",
   "execution_count": null,
   "id": "254526e3",
   "metadata": {},
   "outputs": [],
   "source": [
    "from konlpy.tag import Okt\n",
    "tokenizer = Okt()\n",
    "\n",
    "nouns_data = []\n",
    "for i in text['질문내용'] :\n",
    "    nouns = tokenizer.nouns(i)\n",
    "    nouns_data.append(nouns)"
   ]
  },
  {
   "cell_type": "code",
   "execution_count": null,
   "id": "a4fd342c",
   "metadata": {},
   "outputs": [],
   "source": [
    "nouns_data[1]"
   ]
  },
  {
   "cell_type": "code",
   "execution_count": null,
   "id": "747073f2",
   "metadata": {},
   "outputs": [],
   "source": [
    "noun_to_sent = []\n",
    "for i in nouns_data : \n",
    "    noun_to_sent.append([' '.join(i)])"
   ]
  },
  {
   "cell_type": "code",
   "execution_count": null,
   "id": "34ac879a",
   "metadata": {},
   "outputs": [],
   "source": [
    "noun_to_sent[0]"
   ]
  },
  {
   "cell_type": "code",
   "execution_count": null,
   "id": "8c172b47",
   "metadata": {},
   "outputs": [],
   "source": [
    "nouns_list = sum(nouns_data,[])"
   ]
  },
  {
   "cell_type": "code",
   "execution_count": null,
   "id": "3a284ad7",
   "metadata": {},
   "outputs": [],
   "source": [
    "from collections import Counter\n",
    "count = Counter(nouns_list)\n",
    "most_word = count.most_common(5000)"
   ]
  },
  {
   "cell_type": "code",
   "execution_count": null,
   "id": "57ad05da",
   "metadata": {},
   "outputs": [],
   "source": [
    "word = []\n",
    "count = []\n",
    "for i in most_word:\n",
    "    word.append(i[0])\n",
    "    count.append(i[1])"
   ]
  },
  {
   "cell_type": "code",
   "execution_count": null,
   "id": "62e5b1f8",
   "metadata": {},
   "outputs": [],
   "source": [
    "count_excel = pd.DataFrame()\n",
    "count_excel[\"단어\"] = word\n",
    "count_excel[\"빈도\"] = count\n",
    "count_excel.head()"
   ]
  },
  {
   "cell_type": "code",
   "execution_count": null,
   "id": "4e27d79c",
   "metadata": {},
   "outputs": [],
   "source": [
    "count_excel.to_csv('word_count.csv')"
   ]
  },
  {
   "cell_type": "code",
   "execution_count": null,
   "id": "4c44ab1c",
   "metadata": {},
   "outputs": [],
   "source": [
    "stop_data = pd.read_csv(\"word_count.csv\")\n",
    "stop_data[0:3]"
   ]
  },
  {
   "cell_type": "code",
   "execution_count": null,
   "id": "e10eeab7",
   "metadata": {},
   "outputs": [],
   "source": [
    "stop_words = list(stop_data[\"단어\"][stop_data.빈도>2000])"
   ]
  },
  {
   "cell_type": "code",
   "execution_count": null,
   "id": "17dd8e60",
   "metadata": {},
   "outputs": [],
   "source": [
    "stop_words"
   ]
  },
  {
   "cell_type": "code",
   "execution_count": null,
   "id": "f9ee78fd",
   "metadata": {},
   "outputs": [],
   "source": [
    "clean_data = [list(filter(lambda z: z not in stop_words, x)) for x in nouns_data]"
   ]
  },
  {
   "cell_type": "code",
   "execution_count": null,
   "id": "4d914cba",
   "metadata": {},
   "outputs": [],
   "source": [
    "clean_data[0]"
   ]
  },
  {
   "cell_type": "code",
   "execution_count": null,
   "id": "e552f728",
   "metadata": {},
   "outputs": [],
   "source": [
    "noun_to_sent = []\n",
    "for i in clean_data : \n",
    "    noun_to_sent.append(' '.join(i))"
   ]
  },
  {
   "cell_type": "code",
   "execution_count": null,
   "id": "d8f0bc17",
   "metadata": {},
   "outputs": [],
   "source": [
    "noun_to_sent[0]"
   ]
  },
  {
   "cell_type": "code",
   "execution_count": null,
   "id": "7f45be38",
   "metadata": {},
   "outputs": [],
   "source": [
    "clean_df = pd.DataFrame() \n",
    "clean_df[\"contents\"]  = noun_to_sent"
   ]
  },
  {
   "cell_type": "code",
   "execution_count": null,
   "id": "44519dd1",
   "metadata": {},
   "outputs": [],
   "source": [
    "clean_df[\"contents\"][0] "
   ]
  },
  {
   "cell_type": "code",
   "execution_count": null,
   "id": "f223fa86",
   "metadata": {},
   "outputs": [],
   "source": [
    "clean_df"
   ]
  },
  {
   "cell_type": "code",
   "execution_count": null,
   "id": "13891f53",
   "metadata": {},
   "outputs": [],
   "source": [
    "from konlpy.tag import Okt\n",
    "tag = Okt()\n",
    "from sklearn.feature_extraction.text import CountVectorizer\n",
    "from sklearn.decomposition import LatentDirichletAllocation"
   ]
  },
  {
   "cell_type": "code",
   "execution_count": null,
   "id": "e3def894",
   "metadata": {},
   "outputs": [],
   "source": [
    "vec = CountVectorizer(tokenizer=tokenizer, decode_error ='ignore', \n",
    "                      max_df=0.5, max_features = 1000) #너무 자주 나타나는 단어는 제외\n",
    "text_stop_cv = vec.fit_transform(clean_df['contents'])"
   ]
  },
  {
   "cell_type": "code",
   "execution_count": null,
   "id": "20d25d79",
   "metadata": {},
   "outputs": [],
   "source": [
    "def print_top_words(model, feature_names, n_top_words):\n",
    "    for topic_idx, topic in enumerate(model.components_):\n",
    "        print(\"Topic #%d: \" % topic_idx, end='')\n",
    "        print(\", \".join([feature_names[i] for i in topic.argsort()[:-n_top_words - 1:-1]]))\n",
    "        #print(\", \".join([feature_names[i]+'('+str(topic[i])+')' for i in topic.argsort()[:-n_top_words - 1:-1]]))\n",
    "        # 위 slicing에서 맨 뒤 -1은 역순을 의미, 역순으로 했을 때 처음부터 n_top_words까지\n",
    "    print()"
   ]
  },
  {
   "cell_type": "code",
   "execution_count": null,
   "id": "d2144589",
   "metadata": {},
   "outputs": [],
   "source": [
    "#topic modeling 수행\n",
    "lda = LatentDirichletAllocation(n_components = 50, max_iter=25, \n",
    "                                topic_word_prior= 0.1, doc_topic_prior=1.0,\n",
    "                                learning_method='batch',\n",
    "                                n_jobs= -1,\n",
    "                                random_state=0)\n",
    "news_topics = lda.fit_transform(text_stop_cv)\n",
    "print_top_words(lda,vec.get_feature_names(), 10)"
   ]
  },
  {
   "cell_type": "code",
   "execution_count": null,
   "id": "fca175aa",
   "metadata": {},
   "outputs": [],
   "source": []
  }
 ],
 "metadata": {
  "kernelspec": {
   "display_name": "Python 3",
   "language": "python",
   "name": "python3"
  },
  "language_info": {
   "codemirror_mode": {
    "name": "ipython",
    "version": 3
   },
   "file_extension": ".py",
   "mimetype": "text/x-python",
   "name": "python",
   "nbconvert_exporter": "python",
   "pygments_lexer": "ipython3",
   "version": "3.8.8"
  }
 },
 "nbformat": 4,
 "nbformat_minor": 5
}
